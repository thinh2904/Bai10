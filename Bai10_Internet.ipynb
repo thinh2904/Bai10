{
  "nbformat": 4,
  "nbformat_minor": 0,
  "metadata": {
    "colab": {
      "name": "Bai10_Internet.ipynb",
      "provenance": []
    },
    "kernelspec": {
      "name": "python3",
      "display_name": "Python 3"
    }
  },
  "cells": [
    {
      "cell_type": "code",
      "metadata": {
        "colab": {
          "base_uri": "https://localhost:8080/"
        },
        "id": "6voPqPf020QU",
        "outputId": "a9608709-0d04-4a45-dbe7-06e044e266a1"
      },
      "source": [
        "import pandas as pd\n",
        "a=pd.read_csv('https://raw.githubusercontent.com/thinh2904/Excel/main/Thinh_PC.csv')\n",
        "print(a.head(10))"
      ],
      "execution_count": 1,
      "outputs": [
        {
          "output_type": "stream",
          "text": [
            "   STT Ten  Diem\n",
            "0    1   A     1\n",
            "1    2   S     5\n",
            "2    3   D     8\n",
            "3    4   F     5\n",
            "4    5   G     7\n",
            "5    6   J     9\n",
            "6    7   K     1\n",
            "7    8   G     3\n",
            "8    9   K     4\n",
            "9   10   P     6\n"
          ],
          "name": "stdout"
        }
      ]
    }
  ]
}