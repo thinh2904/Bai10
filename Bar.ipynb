{
  "nbformat": 4,
  "nbformat_minor": 0,
  "metadata": {
    "colab": {
      "name": "Bar.ipynb",
      "provenance": []
    },
    "kernelspec": {
      "name": "python3",
      "display_name": "Python 3"
    }
  },
  "cells": [
    {
      "cell_type": "code",
      "metadata": {
        "colab": {
          "base_uri": "https://localhost:8080/",
          "height": 296
        },
        "id": "I2sdv65cTJBW",
        "outputId": "29f1ab77-313f-4319-b4e7-b207d8284da4"
      },
      "source": [
        "import matplotlib.pyplot as plt\n",
        "import numpy as np\n",
        "t=['Tháng 1','Tháng 2','Tháng 3','Tháng 4']\n",
        "n=[17,17,20,24]\n",
        "plt.title('Biểu đồ cột')\n",
        "plt.bar(t,n)\n",
        "plt.xlabel('Tháng')\n",
        "plt.ylabel('Nhiệt độ')\n",
        "plt.show()"
      ],
      "execution_count": 6,
      "outputs": [
        {
          "output_type": "display_data",
          "data": {
            "image/png": "[encoded data removed]",
            "text/plain": [
              "<Figure size 432x288 with 1 Axes>"
            ]
          },
          "metadata": {
            "tags": [],
            "needs_background": "light"
          }
        }
      ]
    }
  ]
}